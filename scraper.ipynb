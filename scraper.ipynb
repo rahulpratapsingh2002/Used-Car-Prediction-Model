{
 "cells": [
  {
   "cell_type": "code",
   "execution_count": 4,
   "metadata": {},
   "outputs": [],
   "source": [
    "from selenium import webdriver\n",
    "import chromedriver_binary\n",
    "import csv\n",
    "from bs4 import BeautifulSoup\n",
    "import time"
   ]
  },
  {
   "cell_type": "code",
   "execution_count": 2,
   "metadata": {},
   "outputs": [],
   "source": [
    "\n",
    "def my_url(search):\n",
    "    temp = 'https://www.cardekho.com/used-cars+in+{}'\n",
    "    search = search.replace(' ', '-')\n",
    "    url = temp.format(search)\n",
    "    return url\n",
    "\n",
    "\n",
    "def extract_records(obj, city):\n",
    "\n",
    "    parent = obj.find('div', {'class': 'gsc_col-xs-7 carsName'})\n",
    "    year_companyName_Name = (parent.find('a').text).split(\" \")\n",
    "    year = year_companyName_Name[0]\n",
    "    companyName = year_companyName_Name[1]\n",
    "    Name = \"\"\n",
    "    for j in range(2, len(year_companyName_Name)):\n",
    "\n",
    "        Name += year_companyName_Name[j] + \" \"\n",
    "\n",
    "    price = parent.find('span', 'amnt').text\n",
    "\n",
    "    k = obj.find('div', {'class': 'truncate dotlist-2'})\n",
    "    i = 0\n",
    "    for t in k:\n",
    "        if i == 0:\n",
    "            kms = t.text\n",
    "        if i == 1:\n",
    "            fuel = t.text\n",
    "        if i == 2:\n",
    "            transmission = t.text\n",
    "        i = i+1\n",
    "\n",
    "    kms = kms.replace(',', '')\n",
    "    kms = kms.replace(' kms', '')\n",
    "\n",
    "    #print(year,\"//\",companyName,\"//\",Name, \"//\", price, \"//\", kms,\"//\",fuel,\"//\",transmission)\n",
    "\n",
    "    results = (Name, price, city, fuel, transmission, kms, year, companyName)\n",
    "    return results\n",
    "\n",
    "\n",
    "def main(search):\n",
    "    driver = webdriver.Chrome()\n",
    "\n",
    "    records = []\n",
    "    url = my_url(search)\n",
    "\n",
    "    driver.get(url)\n",
    "    time.sleep(2)\n",
    "    scroll_pause_time = 3\n",
    "    screen_height = driver.execute_script(\"return window.screen.height;\")   # get the screen height of the web\n",
    "    i = 1\n",
    "    while True:\n",
    "    # scroll one screen height each time\n",
    "        driver.execute_script(\"window.scrollTo(0, {screen_height}*{i});\".format(screen_height=screen_height, i=i))  \n",
    "        i += 1\n",
    "        time.sleep(scroll_pause_time)\n",
    "        scroll_height = driver.execute_script(\"return document.body.scrollHeight;\")  \n",
    "        if (screen_height) * i > scroll_height:\n",
    "            break\n",
    "\n",
    "    soup = BeautifulSoup(driver.page_source, 'html.parser')\n",
    "    soup_results = soup.find_all('div', {'class': 'shadowWPadding posR'})\n",
    "\n",
    "    for item in soup_results:\n",
    "        record = extract_records(item, search)\n",
    "        if record:\n",
    "            records.append(record)\n",
    "\n",
    "    n = 1\n",
    "    if search == \"new delhi\":\n",
    "        n = 0\n",
    "    writeRecords(records, n)\n",
    "\n",
    "\n",
    "def writeRecords(records, num):\n",
    "    with open('results.csv', 'a', newline='', encoding='utf-8') as f:\n",
    "        writer = csv.writer(f)\n",
    "        if num == 0:\n",
    "            writer.writerow(['Name', 'Price', 'Location', 'Fuel Type',\n",
    "                            'Transmission', 'Kms Driven', 'Year', 'Company Name'])\n",
    "        writer.writerows(records)\n"
   ]
  },
  {
   "cell_type": "code",
   "execution_count": null,
   "metadata": {},
   "outputs": [],
   "source": [
    "cities = ['pune','new delhi','bangaluru','hyderabad','chennai','mumbai']\n",
    "for city in cities:\n",
    "    main(city)"
   ]
  }
 ],
 "metadata": {
  "kernelspec": {
   "display_name": "Python 3.9.7 ('base')",
   "language": "python",
   "name": "python3"
  },
  "language_info": {
   "codemirror_mode": {
    "name": "ipython",
    "version": 3
   },
   "file_extension": ".py",
   "mimetype": "text/x-python",
   "name": "python",
   "nbconvert_exporter": "python",
   "pygments_lexer": "ipython3",
   "version": "3.9.7"
  },
  "orig_nbformat": 4,
  "vscode": {
   "interpreter": {
    "hash": "b302cdd1e032ee910f5c889c3360c28564c92ad4f326fc3102e39fbe47faee66"
   }
  }
 },
 "nbformat": 4,
 "nbformat_minor": 2
}
