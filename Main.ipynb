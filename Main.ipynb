{
 "cells": [
  {
   "cell_type": "code",
   "execution_count": 1,
   "metadata": {},
   "outputs": [],
   "source": [
    "import seaborn as sns\n",
    "import matplotlib.pyplot as plt\n",
    "import statsmodels.api as sm\n",
    "import numpy as np\n",
    "import pandas as pd\n",
    "\n",
    "import sklearn\n",
    "import sklearn.metrics as metrics\n",
    "from sklearn.metrics import r2_score\n",
    "from sklearn.preprocessing import StandardScaler\n",
    "from sklearn.linear_model import LinearRegression\n",
    "from sklearn.tree import DecisionTreeRegressor\n",
    "from sklearn.ensemble import RandomForestRegressor\n",
    "from statsmodels.formula.api import ols\n",
    "from sklearn.model_selection import train_test_split\n",
    "from scipy.stats import zscore\n",
    "from sklearn.preprocessing import LabelEncoder\n",
    "import pickle\n",
    "from sklearn.model_selection import GridSearchCV, RandomizedSearchCV\n",
    "import statsmodels.api as sm\n",
    "from statsmodels.stats.outliers_influence import variance_inflation_factor\n",
    "from sklearn.model_selection import RandomizedSearchCV\n",
    "from sklearn.model_selection import cross_val_score\n",
    "from sklearn.metrics import mean_squared_error, mean_absolute_error\n",
    "from sklearn.linear_model import Ridge,Lasso,RidgeCV,LassoCV\n",
    "import warnings\n",
    "warnings.filterwarnings('ignore')"
   ]
  },
  {
   "cell_type": "code",
   "execution_count": 2,
   "metadata": {},
   "outputs": [],
   "source": [
    "df = pd.read_csv(\"results.csv\")"
   ]
  },
  {
   "cell_type": "code",
   "execution_count": 3,
   "metadata": {},
   "outputs": [
    {
     "data": {
      "text/plain": [
       "(11290, 8)"
      ]
     },
     "execution_count": 3,
     "metadata": {},
     "output_type": "execute_result"
    }
   ],
   "source": [
    "df.shape"
   ]
  },
  {
   "cell_type": "code",
   "execution_count": 4,
   "metadata": {},
   "outputs": [
    {
     "name": "stdout",
     "output_type": "stream",
     "text": [
      "<class 'pandas.core.frame.DataFrame'>\n",
      "RangeIndex: 11290 entries, 0 to 11289\n",
      "Data columns (total 8 columns):\n",
      " #   Column        Non-Null Count  Dtype \n",
      "---  ------        --------------  ----- \n",
      " 0   Name          11287 non-null  object\n",
      " 1   Price         11290 non-null  object\n",
      " 2   Location      11290 non-null  object\n",
      " 3   Fuel Type     11290 non-null  object\n",
      " 4   Transmission  11290 non-null  object\n",
      " 5   Kms Driven    11290 non-null  int64 \n",
      " 6   Year          11290 non-null  int64 \n",
      " 7   Company Name  11290 non-null  object\n",
      "dtypes: int64(2), object(6)\n",
      "memory usage: 705.8+ KB\n"
     ]
    }
   ],
   "source": [
    "df.info()"
   ]
  },
  {
   "cell_type": "code",
   "execution_count": 5,
   "metadata": {},
   "outputs": [
    {
     "data": {
      "text/plain": [
       "Name            3\n",
       "Price           0\n",
       "Location        0\n",
       "Fuel Type       0\n",
       "Transmission    0\n",
       "Kms Driven      0\n",
       "Year            0\n",
       "Company Name    0\n",
       "dtype: int64"
      ]
     },
     "execution_count": 5,
     "metadata": {},
     "output_type": "execute_result"
    }
   ],
   "source": [
    "df.isnull().sum()"
   ]
  },
  {
   "cell_type": "code",
   "execution_count": 6,
   "metadata": {},
   "outputs": [
    {
     "data": {
      "text/html": [
       "<div>\n",
       "<style scoped>\n",
       "    .dataframe tbody tr th:only-of-type {\n",
       "        vertical-align: middle;\n",
       "    }\n",
       "\n",
       "    .dataframe tbody tr th {\n",
       "        vertical-align: top;\n",
       "    }\n",
       "\n",
       "    .dataframe thead th {\n",
       "        text-align: right;\n",
       "    }\n",
       "</style>\n",
       "<table border=\"1\" class=\"dataframe\">\n",
       "  <thead>\n",
       "    <tr style=\"text-align: right;\">\n",
       "      <th></th>\n",
       "      <th>Name</th>\n",
       "      <th>Price</th>\n",
       "      <th>Location</th>\n",
       "      <th>Fuel Type</th>\n",
       "      <th>Transmission</th>\n",
       "      <th>Kms Driven</th>\n",
       "      <th>Year</th>\n",
       "      <th>Company Name</th>\n",
       "    </tr>\n",
       "  </thead>\n",
       "  <tbody>\n",
       "    <tr>\n",
       "      <th>518</th>\n",
       "      <td>NaN</td>\n",
       "      <td>2.45 Lakh</td>\n",
       "      <td>new delhi</td>\n",
       "      <td>Petrol</td>\n",
       "      <td>Manual</td>\n",
       "      <td>30000</td>\n",
       "      <td>2009</td>\n",
       "      <td>Ambassador</td>\n",
       "    </tr>\n",
       "    <tr>\n",
       "      <th>4894</th>\n",
       "      <td>NaN</td>\n",
       "      <td>50000</td>\n",
       "      <td>pune</td>\n",
       "      <td>Petrol</td>\n",
       "      <td>Manual</td>\n",
       "      <td>50000</td>\n",
       "      <td>2003</td>\n",
       "      <td>OpelCorsa</td>\n",
       "    </tr>\n",
       "    <tr>\n",
       "      <th>5051</th>\n",
       "      <td>NaN</td>\n",
       "      <td>40000</td>\n",
       "      <td>pune</td>\n",
       "      <td>Petrol</td>\n",
       "      <td>Manual</td>\n",
       "      <td>50000</td>\n",
       "      <td>2003</td>\n",
       "      <td>OpelCorsa</td>\n",
       "    </tr>\n",
       "  </tbody>\n",
       "</table>\n",
       "</div>"
      ],
      "text/plain": [
       "     Name      Price   Location Fuel Type Transmission  Kms Driven  Year  \\\n",
       "518   NaN  2.45 Lakh  new delhi    Petrol       Manual       30000  2009   \n",
       "4894  NaN      50000       pune    Petrol       Manual       50000  2003   \n",
       "5051  NaN      40000       pune    Petrol       Manual       50000  2003   \n",
       "\n",
       "     Company Name  \n",
       "518    Ambassador  \n",
       "4894    OpelCorsa  \n",
       "5051    OpelCorsa  "
      ]
     },
     "execution_count": 6,
     "metadata": {},
     "output_type": "execute_result"
    }
   ],
   "source": [
    "df[df['Name'].isnull()]"
   ]
  },
  {
   "cell_type": "code",
   "execution_count": 7,
   "metadata": {},
   "outputs": [
    {
     "data": {
      "text/html": [
       "<div>\n",
       "<style scoped>\n",
       "    .dataframe tbody tr th:only-of-type {\n",
       "        vertical-align: middle;\n",
       "    }\n",
       "\n",
       "    .dataframe tbody tr th {\n",
       "        vertical-align: top;\n",
       "    }\n",
       "\n",
       "    .dataframe thead th {\n",
       "        text-align: right;\n",
       "    }\n",
       "</style>\n",
       "<table border=\"1\" class=\"dataframe\">\n",
       "  <thead>\n",
       "    <tr style=\"text-align: right;\">\n",
       "      <th></th>\n",
       "      <th>Name</th>\n",
       "      <th>Price</th>\n",
       "      <th>Location</th>\n",
       "      <th>Fuel Type</th>\n",
       "      <th>Transmission</th>\n",
       "      <th>Kms Driven</th>\n",
       "      <th>Year</th>\n",
       "      <th>Company Name</th>\n",
       "    </tr>\n",
       "  </thead>\n",
       "  <tbody>\n",
       "    <tr>\n",
       "      <th>count</th>\n",
       "      <td>11287</td>\n",
       "      <td>11290</td>\n",
       "      <td>11290</td>\n",
       "      <td>11290</td>\n",
       "      <td>11290</td>\n",
       "      <td>1.129000e+04</td>\n",
       "      <td>11290.000000</td>\n",
       "      <td>11290</td>\n",
       "    </tr>\n",
       "    <tr>\n",
       "      <th>unique</th>\n",
       "      <td>312</td>\n",
       "      <td>1470</td>\n",
       "      <td>6</td>\n",
       "      <td>5</td>\n",
       "      <td>2</td>\n",
       "      <td>NaN</td>\n",
       "      <td>NaN</td>\n",
       "      <td>32</td>\n",
       "    </tr>\n",
       "    <tr>\n",
       "      <th>top</th>\n",
       "      <td>City</td>\n",
       "      <td>4.25 Lakh</td>\n",
       "      <td>new delhi</td>\n",
       "      <td>Petrol</td>\n",
       "      <td>Manual</td>\n",
       "      <td>NaN</td>\n",
       "      <td>NaN</td>\n",
       "      <td>Maruti</td>\n",
       "    </tr>\n",
       "    <tr>\n",
       "      <th>freq</th>\n",
       "      <td>633</td>\n",
       "      <td>120</td>\n",
       "      <td>3585</td>\n",
       "      <td>6604</td>\n",
       "      <td>7398</td>\n",
       "      <td>NaN</td>\n",
       "      <td>NaN</td>\n",
       "      <td>2564</td>\n",
       "    </tr>\n",
       "    <tr>\n",
       "      <th>mean</th>\n",
       "      <td>NaN</td>\n",
       "      <td>NaN</td>\n",
       "      <td>NaN</td>\n",
       "      <td>NaN</td>\n",
       "      <td>NaN</td>\n",
       "      <td>5.641735e+04</td>\n",
       "      <td>2015.535252</td>\n",
       "      <td>NaN</td>\n",
       "    </tr>\n",
       "    <tr>\n",
       "      <th>std</th>\n",
       "      <td>NaN</td>\n",
       "      <td>NaN</td>\n",
       "      <td>NaN</td>\n",
       "      <td>NaN</td>\n",
       "      <td>NaN</td>\n",
       "      <td>1.256699e+05</td>\n",
       "      <td>3.669614</td>\n",
       "      <td>NaN</td>\n",
       "    </tr>\n",
       "    <tr>\n",
       "      <th>min</th>\n",
       "      <td>NaN</td>\n",
       "      <td>NaN</td>\n",
       "      <td>NaN</td>\n",
       "      <td>NaN</td>\n",
       "      <td>NaN</td>\n",
       "      <td>1.110000e+02</td>\n",
       "      <td>1990.000000</td>\n",
       "      <td>NaN</td>\n",
       "    </tr>\n",
       "    <tr>\n",
       "      <th>25%</th>\n",
       "      <td>NaN</td>\n",
       "      <td>NaN</td>\n",
       "      <td>NaN</td>\n",
       "      <td>NaN</td>\n",
       "      <td>NaN</td>\n",
       "      <td>3.000000e+04</td>\n",
       "      <td>2013.000000</td>\n",
       "      <td>NaN</td>\n",
       "    </tr>\n",
       "    <tr>\n",
       "      <th>50%</th>\n",
       "      <td>NaN</td>\n",
       "      <td>NaN</td>\n",
       "      <td>NaN</td>\n",
       "      <td>NaN</td>\n",
       "      <td>NaN</td>\n",
       "      <td>5.047700e+04</td>\n",
       "      <td>2016.000000</td>\n",
       "      <td>NaN</td>\n",
       "    </tr>\n",
       "    <tr>\n",
       "      <th>75%</th>\n",
       "      <td>NaN</td>\n",
       "      <td>NaN</td>\n",
       "      <td>NaN</td>\n",
       "      <td>NaN</td>\n",
       "      <td>NaN</td>\n",
       "      <td>7.205100e+04</td>\n",
       "      <td>2018.000000</td>\n",
       "      <td>NaN</td>\n",
       "    </tr>\n",
       "    <tr>\n",
       "      <th>max</th>\n",
       "      <td>NaN</td>\n",
       "      <td>NaN</td>\n",
       "      <td>NaN</td>\n",
       "      <td>NaN</td>\n",
       "      <td>NaN</td>\n",
       "      <td>7.400000e+06</td>\n",
       "      <td>2022.000000</td>\n",
       "      <td>NaN</td>\n",
       "    </tr>\n",
       "  </tbody>\n",
       "</table>\n",
       "</div>"
      ],
      "text/plain": [
       "         Name      Price   Location Fuel Type Transmission    Kms Driven  \\\n",
       "count   11287      11290      11290     11290        11290  1.129000e+04   \n",
       "unique    312       1470          6         5            2           NaN   \n",
       "top     City   4.25 Lakh  new delhi    Petrol       Manual           NaN   \n",
       "freq      633        120       3585      6604         7398           NaN   \n",
       "mean      NaN        NaN        NaN       NaN          NaN  5.641735e+04   \n",
       "std       NaN        NaN        NaN       NaN          NaN  1.256699e+05   \n",
       "min       NaN        NaN        NaN       NaN          NaN  1.110000e+02   \n",
       "25%       NaN        NaN        NaN       NaN          NaN  3.000000e+04   \n",
       "50%       NaN        NaN        NaN       NaN          NaN  5.047700e+04   \n",
       "75%       NaN        NaN        NaN       NaN          NaN  7.205100e+04   \n",
       "max       NaN        NaN        NaN       NaN          NaN  7.400000e+06   \n",
       "\n",
       "                Year Company Name  \n",
       "count   11290.000000        11290  \n",
       "unique           NaN           32  \n",
       "top              NaN       Maruti  \n",
       "freq             NaN         2564  \n",
       "mean     2015.535252          NaN  \n",
       "std         3.669614          NaN  \n",
       "min      1990.000000          NaN  \n",
       "25%      2013.000000          NaN  \n",
       "50%      2016.000000          NaN  \n",
       "75%      2018.000000          NaN  \n",
       "max      2022.000000          NaN  "
      ]
     },
     "execution_count": 7,
     "metadata": {},
     "output_type": "execute_result"
    }
   ],
   "source": [
    "df.describe(include='all')"
   ]
  },
  {
   "cell_type": "markdown",
   "metadata": {},
   "source": [
    "Observations:\n",
    "- 3 Null Values in Name\n",
    "- Need to convert Price data type from string to float\n",
    "- Some Outliers are present"
   ]
  },
  {
   "cell_type": "markdown",
   "metadata": {},
   "source": [
    "## Data Preprocessing"
   ]
  },
  {
   "cell_type": "code",
   "execution_count": 8,
   "metadata": {},
   "outputs": [],
   "source": [
    "df.dropna(inplace=True)\n",
    "df.reset_index(drop=True, inplace=True)\n"
   ]
  },
  {
   "cell_type": "code",
   "execution_count": 9,
   "metadata": {},
   "outputs": [],
   "source": [
    "#Convert price to float\n",
    "\n",
    "df['Price'] = df['Price'].astype(str)\n",
    "price = []\n",
    "for i in range(len(df['Price'])):\n",
    "    l = df['Price'][i].split(' ')\n",
    "    p = l[0]\n",
    "    if(len(l)==2):\n",
    "        u = l[1]\n",
    "        if u=='Lakh':\n",
    "            p = float(p) * 100000\n",
    "        elif u=='Cr':\n",
    "            p = float(p) * 10000000\n",
    "    price.append(int(p))\n",
    "df['Price'] = '0'\n",
    "df['Price']= df['Price'].astype(float)\n",
    "df['Price'] = price\n"
   ]
  },
  {
   "cell_type": "code",
   "execution_count": 10,
   "metadata": {},
   "outputs": [
    {
     "data": {
      "text/plain": [
       "Name            object\n",
       "Price            int64\n",
       "Location        object\n",
       "Fuel Type       object\n",
       "Transmission    object\n",
       "Kms Driven       int64\n",
       "Year             int64\n",
       "Company Name    object\n",
       "dtype: object"
      ]
     },
     "execution_count": 10,
     "metadata": {},
     "output_type": "execute_result"
    }
   ],
   "source": [
    "df.dtypes"
   ]
  },
  {
   "cell_type": "code",
   "execution_count": 11,
   "metadata": {},
   "outputs": [
    {
     "name": "stdout",
     "output_type": "stream",
     "text": [
      "City            633\n",
      "i20             463\n",
      "Creta           388\n",
      "Wagon R         387\n",
      "Swift Dzire     295\n",
      "               ... \n",
      "Aria              1\n",
      "X-Trail           1\n",
      "S 80              1\n",
      "AMG GLA 35        1\n",
      "Sail              1\n",
      "Name: Name, Length: 312, dtype: int64 \n",
      "\n",
      "new delhi    3584\n",
      "mumbai       2964\n",
      "bangalore    1740\n",
      "pune         1059\n",
      "hyderabad    1039\n",
      "chennai       901\n",
      "Name: Location, dtype: int64 \n",
      "\n",
      "Petrol      6601\n",
      "Diesel      4305\n",
      "CNG          327\n",
      "Electric      36\n",
      "LPG           18\n",
      "Name: Fuel Type, dtype: int64 \n",
      "\n",
      "Manual       7395\n",
      "Automatic    3892\n",
      "Name: Transmission, dtype: int64 \n",
      "\n",
      "2017    1375\n",
      "2018    1271\n",
      "2016    1173\n",
      "2015    1139\n",
      "2019     981\n",
      "2014     941\n",
      "2013     798\n",
      "2020     692\n",
      "2012     629\n",
      "2021     606\n",
      "2011     492\n",
      "2010     354\n",
      "2009     210\n",
      "2008     154\n",
      "2022     145\n",
      "2007     135\n",
      "2006      68\n",
      "2005      32\n",
      "2004      31\n",
      "2003      23\n",
      "2002      16\n",
      "2001       9\n",
      "2000       5\n",
      "1996       2\n",
      "1992       2\n",
      "1999       1\n",
      "1990       1\n",
      "1998       1\n",
      "1997       1\n",
      "Name: Year, dtype: int64 \n",
      "\n",
      "Maruti           2564\n",
      "Hyundai          2143\n",
      "Honda            1292\n",
      "Mahindra          659\n",
      "Toyota            647\n",
      "Mercedes-Benz     558\n",
      "Tata              396\n",
      "BMW               394\n",
      "Volkswagen        391\n",
      "Ford              348\n",
      "Renault           342\n",
      "Skoda             279\n",
      "Audi              272\n",
      "Kia               157\n",
      "MG                149\n",
      "Jeep              125\n",
      "Nissan             99\n",
      "Land Rover         85\n",
      "Chevrolet          79\n",
      "Volvo              68\n",
      "Jaguar             63\n",
      "Mitsubishi         37\n",
      "Datsun             36\n",
      "Porsche            33\n",
      "Fiat               32\n",
      "Mini Cooper        27\n",
      "Isuzu               7\n",
      "Bentley             3\n",
      "Lexus               1\n",
      "Maserati            1\n",
      "Name: Company Name, dtype: int64 \n",
      "\n"
     ]
    }
   ],
   "source": [
    "cat_feat = ['Name','Location','Fuel Type','Transmission','Year','Company Name']\n",
    "for i in cat_feat:\n",
    "    print(df[i].value_counts(),'\\n')"
   ]
  },
  {
   "cell_type": "code",
   "execution_count": 12,
   "metadata": {},
   "outputs": [],
   "source": [
    "df = df[df['Year']>2007] # remove cars older than 2007"
   ]
  },
  {
   "cell_type": "code",
   "execution_count": 13,
   "metadata": {},
   "outputs": [
    {
     "data": {
      "text/plain": [
       "(10960, 8)"
      ]
     },
     "execution_count": 13,
     "metadata": {},
     "output_type": "execute_result"
    }
   ],
   "source": [
    "df.shape"
   ]
  },
  {
   "cell_type": "markdown",
   "metadata": {},
   "source": [
    "## EDA"
   ]
  },
  {
   "cell_type": "code",
   "execution_count": 14,
   "metadata": {},
   "outputs": [
    {
     "data": {
      "text/plain": [
       "Name            object\n",
       "Price            int64\n",
       "Location        object\n",
       "Fuel Type       object\n",
       "Transmission    object\n",
       "Kms Driven       int64\n",
       "Year             int64\n",
       "Company Name    object\n",
       "dtype: object"
      ]
     },
     "execution_count": 14,
     "metadata": {},
     "output_type": "execute_result"
    }
   ],
   "source": [
    "df.dtypes"
   ]
  },
  {
   "cell_type": "code",
   "execution_count": 15,
   "metadata": {},
   "outputs": [],
   "source": [
    "num_feat = ['Price','Kms Driven']\n",
    "cat_feat = ['Name','Location','Fuel Type','Transmission','Year', 'Company Name']"
   ]
  },
  {
   "cell_type": "code",
   "execution_count": 16,
   "metadata": {},
   "outputs": [
    {
     "data": {
      "text/plain": [
       "0         532000\n",
       "1         778000\n",
       "2         688000\n",
       "3         582000\n",
       "4         495000\n",
       "          ...   \n",
       "11282     355000\n",
       "11283     400000\n",
       "11284     375000\n",
       "11285     650000\n",
       "11286    3040000\n",
       "Name: Price, Length: 10960, dtype: int64"
      ]
     },
     "execution_count": 16,
     "metadata": {},
     "output_type": "execute_result"
    }
   ],
   "source": [
    "df['Price']"
   ]
  },
  {
   "cell_type": "code",
   "execution_count": 17,
   "metadata": {},
   "outputs": [
    {
     "data": {
      "image/png": "[encoded data removed]",
      "text/plain": [
       "<Figure size 720x360 with 1 Axes>"
      ]
     },
     "metadata": {
      "needs_background": "light"
     },
     "output_type": "display_data"
    },
    {
     "data": {
      "image/png": "[encoded data removed]",
      "text/plain": [
       "<Figure size 720x360 with 1 Axes>"
      ]
     },
     "metadata": {
      "needs_background": "light"
     },
     "output_type": "display_data"
    }
   ],
   "source": [
    "for i in num_feat:\n",
    "    plt.figure(figsize=(10,5))\n",
    "    sns.histplot(df[i],kde=True,palette=\"viridis\")\n",
    "    plt.title(\"Histogram\")\n",
    "    plt.show()"
   ]
  },
  {
   "cell_type": "code",
   "execution_count": 18,
   "metadata": {},
   "outputs": [
    {
     "name": "stdout",
     "output_type": "stream",
     "text": [
      "Mean Price:  1108370.4943430657\n",
      "Mode Price:  0    425000\n",
      "dtype: int64\n",
      "Mean Kms Driven:  55455.048175182485\n",
      "Mode Kms Driven:  0    65000\n",
      "dtype: int64\n"
     ]
    }
   ],
   "source": [
    "print(\"Mean Price: \",df['Price'].mean())\n",
    "print(\"Mode Price: \",df['Price'].mode())\n",
    "print(\"Mean Kms Driven: \",df['Kms Driven'].mean())\n",
    "print(\"Mode Kms Driven: \",df['Kms Driven'].mode())"
   ]
  },
  {
   "cell_type": "code",
   "execution_count": 19,
   "metadata": {},
   "outputs": [
    {
     "data": {
      "image/png": "[encoded data removed]",
      "text/plain": [
       "<Figure size 864x360 with 1 Axes>"
      ]
     },
     "metadata": {
      "needs_background": "light"
     },
     "output_type": "display_data"
    },
    {
     "data": {
      "image/png": "[encoded data removed]",
      "text/plain": [
       "<Figure size 864x360 with 1 Axes>"
      ]
     },
     "metadata": {
      "needs_background": "light"
     },
     "output_type": "display_data"
    },
    {
     "data": {
      "image/png": "[encoded data removed]",
      "text/plain": [
       "<Figure size 864x360 with 1 Axes>"
      ]
     },
     "metadata": {
      "needs_background": "light"
     },
     "output_type": "display_data"
    },
    {
     "data": {
      "image/png": "[encoded data removed]",
      "text/plain": [
       "<Figure size 864x360 with 1 Axes>"
      ]
     },
     "metadata": {
      "needs_background": "light"
     },
     "output_type": "display_data"
    },
    {
     "data": {
      "image/png": "[encoded data removed]",
      "text/plain": [
       "<Figure size 864x360 with 1 Axes>"
      ]
     },
     "metadata": {
      "needs_background": "light"
     },
     "output_type": "display_data"
    }
   ],
   "source": [
    "for i in cat_feat[1:]:\n",
    "    plt.figure(figsize=(12,5))\n",
    "    sns.countplot(df[i])\n",
    "    plt.xticks(rotation=90)\n",
    "    plt.show()"
   ]
  },
  {
   "cell_type": "markdown",
   "metadata": {},
   "source": [
    "Observations:\n",
    "- Delhi and Mumbai together account for more than 58% of used car sales\n",
    "- Petrol cars have the highest quantity to be listed for sale, as petrol have an extra benefit compared to Diesel - it can be converted to run on CNG, which is almost 30% cheaper than petrol and diesel and cleaner for the environment.\n",
    "- Manual Transmission is abundant as the cars tend to be cheaper which makes sense for the indian market  \n",
    "- Most of the cars being sold are from 2015 to 2019\n",
    "- Out of the 11k cars, Maruti suzuki and Hyundai are the most used car companies which has been put up for sale, indicating high penetration in the indian market compared to its rivals."
   ]
  },
  {
   "cell_type": "code",
   "execution_count": 20,
   "metadata": {},
   "outputs": [
    {
     "data": {
      "image/png": "[encoded data removed]",
      "text/plain": [
       "<Figure size 1296x432 with 1 Axes>"
      ]
     },
     "metadata": {
      "needs_background": "light"
     },
     "output_type": "display_data"
    }
   ],
   "source": [
    "sns.catplot(y = \"Price\", x = \"Company Name\", data = df.sort_values(\"Price\", ascending = False), kind=\"boxen\", height = 6, aspect = 3)\n",
    "plt.xticks(rotation=90)\n",
    "plt.show()"
   ]
  },
  {
   "cell_type": "markdown",
   "metadata": {},
   "source": [
    "Observation:\n",
    "- We can see majority of the companies have outlier prices.\n",
    "- Luxurious brands will logically be expensive than commercial car brands, like Mercedes-Benz is the one of the most expensive luxury car company in the world.\n"
   ]
  },
  {
   "cell_type": "code",
   "execution_count": 21,
   "metadata": {},
   "outputs": [
    {
     "data": {
      "image/png": "[encoded data removed]",
      "text/plain": [
       "<Figure size 1440x720 with 1 Axes>"
      ]
     },
     "metadata": {
      "needs_background": "light"
     },
     "output_type": "display_data"
    }
   ],
   "source": [
    "df_temp = df[df['Company Name'].isin(['Maruti' , 'Hyundai','Honda','Mahindra' 'Toyota', 'Mercedes-Benz',\n",
    "                                    'Tata', 'BMW', 'Volkswagen', 'Ford', 'Renault', 'Skoda', 'Audi', 'Kia', 'MG', 'Jeep'])]\n",
    "pd.crosstab(df_temp['Location'], df_temp['Company Name']).plot(\n",
    "    kind='barh', stacked=True, figsize=(20, 10), fontsize=15, colormap=\"tab20\")\n",
    "plt.show()\n"
   ]
  },
  {
   "cell_type": "markdown",
   "metadata": {},
   "source": [
    "Obseravation:\n",
    "- In Pune, Delhi, Mumbai, hyderabad Maruti has highest market share\n",
    "- In Chennai, Banglore Hyundai has highest market share\n"
   ]
  },
  {
   "cell_type": "code",
   "execution_count": 22,
   "metadata": {},
   "outputs": [
    {
     "data": {
      "text/plain": [
       "<AxesSubplot:xlabel='Kms Driven', ylabel='Price'>"
      ]
     },
     "execution_count": 22,
     "metadata": {},
     "output_type": "execute_result"
    },
    {
     "data": {
      "image/png": "[encoded data removed]",
      "text/plain": [
       "<Figure size 432x288 with 1 Axes>"
      ]
     },
     "metadata": {
      "needs_background": "light"
     },
     "output_type": "display_data"
    }
   ],
   "source": [
    "df1 = df[df[\"Kms Driven\"]<1000000]\n",
    "df1.plot.scatter(y=\"Price\",x=\"Kms Driven\")"
   ]
  },
  {
   "cell_type": "markdown",
   "metadata": {},
   "source": [
    "Obseravtion:\n",
    "- As the Kms Driven increases price of the car decreases."
   ]
  },
  {
   "cell_type": "code",
   "execution_count": 23,
   "metadata": {},
   "outputs": [
    {
     "data": {
      "text/plain": [
       "<seaborn.axisgrid.FacetGrid at 0x1c90ead0550>"
      ]
     },
     "execution_count": 23,
     "metadata": {},
     "output_type": "execute_result"
    },
    {
     "data": {
      "image/png": "[encoded data removed]",
      "text/plain": [
       "<Figure size 360x360 with 1 Axes>"
      ]
     },
     "metadata": {
      "needs_background": "light"
     },
     "output_type": "display_data"
    }
   ],
   "source": [
    "sns.catplot(kind=\"point\",x=\"Price\",y=\"Transmission\",data=df)"
   ]
  },
  {
   "cell_type": "markdown",
   "metadata": {},
   "source": [
    "Observation:\n",
    "- Automatic cars are more expensive than manual ones."
   ]
  },
  {
   "cell_type": "code",
   "execution_count": 24,
   "metadata": {},
   "outputs": [
    {
     "data": {
      "text/plain": [
       "<seaborn.axisgrid.FacetGrid at 0x1c90dbc6070>"
      ]
     },
     "execution_count": 24,
     "metadata": {},
     "output_type": "execute_result"
    },
    {
     "data": {
      "image/png": "[encoded data removed]",
      "text/plain": [
       "<Figure size 447.125x360 with 1 Axes>"
      ]
     },
     "metadata": {
      "needs_background": "light"
     },
     "output_type": "display_data"
    }
   ],
   "source": [
    "sns.catplot(kind=\"bar\",y=\"Price\",x=\"Fuel Type\",hue=\"Transmission\",data=df)"
   ]
  },
  {
   "cell_type": "markdown",
   "metadata": {},
   "source": [
    "Observation:\n",
    "- Diesel cars with automatic transmission are most expensive. \n",
    "- Electric cars only have automatic transmission.\n",
    "- CNG and LPG only have manual transmission and these cars are cheapest to buy."
   ]
  },
  {
   "cell_type": "markdown",
   "metadata": {},
   "source": [
    "## Data Transformation"
   ]
  },
  {
   "cell_type": "code",
   "execution_count": 25,
   "metadata": {},
   "outputs": [],
   "source": [
    "num_df=df[num_feat]"
   ]
  },
  {
   "cell_type": "markdown",
   "metadata": {},
   "source": [
    "### Checking Outliers\n"
   ]
  },
  {
   "cell_type": "code",
   "execution_count": 26,
   "metadata": {},
   "outputs": [
    {
     "data": {
      "text/plain": [
       "(10960, 2)"
      ]
     },
     "execution_count": 26,
     "metadata": {},
     "output_type": "execute_result"
    }
   ],
   "source": [
    "z = np.abs(zscore(num_df))\n",
    "z.shape"
   ]
  },
  {
   "cell_type": "code",
   "execution_count": 27,
   "metadata": {},
   "outputs": [
    {
     "name": "stdout",
     "output_type": "stream",
     "text": [
      "(array([  304,   346,   352,   411,   449,   459,   462,   463,   466,\n",
      "         502,   546,   647,   666,   715,   742,   790,   791,   794,\n",
      "         819,   820,   822,   831,  1077,  1096,  1124,  1127,  1147,\n",
      "        1158,  1182,  1190,  1192,  1201,  1260,  1287,  1288,  1304,\n",
      "        1365,  1379,  1381,  1391,  1422,  1457,  1474,  1515,  1518,\n",
      "        1554,  1612,  1677,  1697,  1773,  1774,  1775,  1779,  1780,\n",
      "        1802,  1813,  1917,  1929,  1953,  1955,  1982,  1986,  1989,\n",
      "        1990,  1993,  2000,  2013,  2041,  2075,  2114,  2164,  2188,\n",
      "        2198,  2245,  2247,  2274,  2289,  2338,  2377,  2382,  2414,\n",
      "        2417,  2420,  2425,  2449,  2513,  2531,  2546,  2580,  2602,\n",
      "        2607,  2608,  2610,  2611,  2626,  2631,  2636,  2648,  2712,\n",
      "        2798,  2882,  2964,  2969,  3010,  3064,  3065,  3177,  3188,\n",
      "        3387,  3395,  3470,  3481,  3500,  3502,  3521,  3530,  3571,\n",
      "        3572,  3573,  3574,  3575,  3576,  3904,  3905,  3983,  4101,\n",
      "        4148,  4153,  4183,  4219,  4220,  4229,  4235,  4254,  4270,\n",
      "        4517,  4543,  4735,  4738,  4739,  4741,  4802,  4878,  4879,\n",
      "        4927,  4949,  4969,  5030,  5032,  5050,  5063,  5333,  5512,\n",
      "        5681,  5692,  5834,  5989,  6015,  6018,  6086,  6091,  6351,\n",
      "        6401,  6564,  6657,  6710,  6806,  6838,  6871,  6872,  6905,\n",
      "        6940,  7053,  7105,  7137,  7193,  7215,  7237,  7310,  7329,\n",
      "        7371,  7392,  7408,  7460,  7461,  7473,  7482,  7596,  7989,\n",
      "        8304,  8393,  8441,  8442,  8556,  8593,  8595,  8617,  8619,\n",
      "        8625,  8629,  8663,  8674,  8719,  8745,  8777,  8796,  8804,\n",
      "        8822,  8823,  8824,  8825,  8855,  8861,  8862,  8906,  8936,\n",
      "        8981,  9038,  9186,  9190,  9196,  9244,  9259,  9269,  9289,\n",
      "        9334,  9375,  9376,  9425,  9444,  9487,  9520,  9596,  9601,\n",
      "        9630,  9705,  9790,  9791,  9859,  9872,  9880,  9955, 10004,\n",
      "       10198, 10390, 10397, 10433, 10445, 10475, 10486, 10654, 10687,\n",
      "       10693, 10732, 10752, 10769, 10775, 10797, 10839, 10877],\n",
      "      dtype=int64), array([0, 0, 0, 0, 0, 0, 0, 0, 0, 0, 0, 1, 0, 0, 0, 0, 0, 0, 0, 0, 0, 0,\n",
      "       0, 0, 0, 0, 0, 0, 0, 0, 0, 0, 0, 0, 0, 0, 0, 0, 0, 0, 0, 0, 0, 0,\n",
      "       0, 0, 0, 0, 0, 0, 0, 0, 0, 0, 0, 0, 0, 0, 0, 0, 0, 0, 0, 0, 0, 0,\n",
      "       0, 0, 0, 0, 0, 0, 1, 0, 0, 1, 0, 0, 0, 0, 0, 0, 0, 0, 0, 0, 0, 0,\n",
      "       0, 0, 0, 0, 0, 0, 0, 0, 0, 0, 0, 0, 0, 0, 0, 0, 0, 0, 0, 0, 0, 0,\n",
      "       0, 0, 0, 0, 0, 0, 0, 0, 0, 0, 0, 0, 0, 0, 0, 1, 0, 0, 0, 0, 0, 0,\n",
      "       0, 0, 1, 0, 0, 0, 0, 0, 0, 0, 0, 0, 0, 0, 0, 0, 0, 0, 1, 0, 0, 0,\n",
      "       0, 0, 0, 0, 0, 0, 0, 0, 1, 0, 1, 0, 0, 0, 0, 0, 0, 0, 0, 0, 0, 0,\n",
      "       0, 0, 0, 0, 0, 0, 0, 0, 0, 0, 0, 0, 0, 0, 0, 0, 0, 0, 0, 0, 0, 0,\n",
      "       0, 0, 0, 0, 0, 0, 0, 0, 0, 0, 0, 0, 0, 0, 0, 0, 0, 0, 0, 0, 0, 0,\n",
      "       1, 0, 0, 0, 0, 0, 0, 0, 0, 0, 0, 0, 0, 0, 0, 0, 0, 0, 0, 0, 1, 0,\n",
      "       0, 0, 0, 0, 0, 0, 0, 0, 0, 0, 0, 0, 0, 0, 0, 0, 0, 0], dtype=int64))\n"
     ]
    }
   ],
   "source": [
    "threshold = 3\n",
    "print(np.where(z>3))"
   ]
  },
  {
   "cell_type": "code",
   "execution_count": 28,
   "metadata": {},
   "outputs": [],
   "source": [
    "df_new=df[(z<3).all(axis=1)]"
   ]
  },
  {
   "cell_type": "code",
   "execution_count": 29,
   "metadata": {},
   "outputs": [
    {
     "data": {
      "text/plain": [
       "((10700, 8), (10960, 8))"
      ]
     },
     "execution_count": 29,
     "metadata": {},
     "output_type": "execute_result"
    }
   ],
   "source": [
    "df_new.shape, df.shape"
   ]
  },
  {
   "cell_type": "code",
   "execution_count": 30,
   "metadata": {},
   "outputs": [
    {
     "data": {
      "text/plain": [
       "2.372262773722628"
      ]
     },
     "execution_count": 30,
     "metadata": {},
     "output_type": "execute_result"
    }
   ],
   "source": [
    "(10960-10700)*100/10960 "
   ]
  },
  {
   "cell_type": "markdown",
   "metadata": {},
   "source": [
    "2.37% data loss"
   ]
  },
  {
   "cell_type": "markdown",
   "metadata": {},
   "source": [
    "## Encoding"
   ]
  },
  {
   "cell_type": "code",
   "execution_count": 31,
   "metadata": {},
   "outputs": [],
   "source": [
    "cat_feat.remove('Year')"
   ]
  },
  {
   "cell_type": "code",
   "execution_count": 32,
   "metadata": {},
   "outputs": [
    {
     "data": {
      "text/html": [
       "<div>\n",
       "<style scoped>\n",
       "    .dataframe tbody tr th:only-of-type {\n",
       "        vertical-align: middle;\n",
       "    }\n",
       "\n",
       "    .dataframe tbody tr th {\n",
       "        vertical-align: top;\n",
       "    }\n",
       "\n",
       "    .dataframe thead th {\n",
       "        text-align: right;\n",
       "    }\n",
       "</style>\n",
       "<table border=\"1\" class=\"dataframe\">\n",
       "  <thead>\n",
       "    <tr style=\"text-align: right;\">\n",
       "      <th></th>\n",
       "      <th>Name</th>\n",
       "      <th>Price</th>\n",
       "      <th>Location</th>\n",
       "      <th>Fuel Type</th>\n",
       "      <th>Transmission</th>\n",
       "      <th>Kms Driven</th>\n",
       "      <th>Year</th>\n",
       "      <th>Company Name</th>\n",
       "    </tr>\n",
       "  </thead>\n",
       "  <tbody>\n",
       "    <tr>\n",
       "      <th>0</th>\n",
       "      <td>28</td>\n",
       "      <td>532000</td>\n",
       "      <td>4</td>\n",
       "      <td>4</td>\n",
       "      <td>1</td>\n",
       "      <td>18538</td>\n",
       "      <td>2018</td>\n",
       "      <td>7</td>\n",
       "    </tr>\n",
       "    <tr>\n",
       "      <th>1</th>\n",
       "      <td>237</td>\n",
       "      <td>778000</td>\n",
       "      <td>4</td>\n",
       "      <td>4</td>\n",
       "      <td>1</td>\n",
       "      <td>34427</td>\n",
       "      <td>2016</td>\n",
       "      <td>8</td>\n",
       "    </tr>\n",
       "    <tr>\n",
       "      <th>2</th>\n",
       "      <td>158</td>\n",
       "      <td>688000</td>\n",
       "      <td>4</td>\n",
       "      <td>4</td>\n",
       "      <td>1</td>\n",
       "      <td>56591</td>\n",
       "      <td>2017</td>\n",
       "      <td>24</td>\n",
       "    </tr>\n",
       "    <tr>\n",
       "      <th>3</th>\n",
       "      <td>240</td>\n",
       "      <td>582000</td>\n",
       "      <td>4</td>\n",
       "      <td>0</td>\n",
       "      <td>1</td>\n",
       "      <td>23261</td>\n",
       "      <td>2020</td>\n",
       "      <td>16</td>\n",
       "    </tr>\n",
       "    <tr>\n",
       "      <th>4</th>\n",
       "      <td>60</td>\n",
       "      <td>495000</td>\n",
       "      <td>4</td>\n",
       "      <td>4</td>\n",
       "      <td>0</td>\n",
       "      <td>12665</td>\n",
       "      <td>2018</td>\n",
       "      <td>16</td>\n",
       "    </tr>\n",
       "    <tr>\n",
       "      <th>...</th>\n",
       "      <td>...</td>\n",
       "      <td>...</td>\n",
       "      <td>...</td>\n",
       "      <td>...</td>\n",
       "      <td>...</td>\n",
       "      <td>...</td>\n",
       "      <td>...</td>\n",
       "      <td>...</td>\n",
       "    </tr>\n",
       "    <tr>\n",
       "      <th>11282</th>\n",
       "      <td>193</td>\n",
       "      <td>355000</td>\n",
       "      <td>3</td>\n",
       "      <td>0</td>\n",
       "      <td>1</td>\n",
       "      <td>74000</td>\n",
       "      <td>2013</td>\n",
       "      <td>16</td>\n",
       "    </tr>\n",
       "    <tr>\n",
       "      <th>11283</th>\n",
       "      <td>78</td>\n",
       "      <td>400000</td>\n",
       "      <td>3</td>\n",
       "      <td>1</td>\n",
       "      <td>1</td>\n",
       "      <td>80000</td>\n",
       "      <td>2011</td>\n",
       "      <td>3</td>\n",
       "    </tr>\n",
       "    <tr>\n",
       "      <th>11284</th>\n",
       "      <td>64</td>\n",
       "      <td>375000</td>\n",
       "      <td>3</td>\n",
       "      <td>4</td>\n",
       "      <td>1</td>\n",
       "      <td>66294</td>\n",
       "      <td>2013</td>\n",
       "      <td>7</td>\n",
       "    </tr>\n",
       "    <tr>\n",
       "      <th>11285</th>\n",
       "      <td>132</td>\n",
       "      <td>650000</td>\n",
       "      <td>3</td>\n",
       "      <td>4</td>\n",
       "      <td>1</td>\n",
       "      <td>50092</td>\n",
       "      <td>2017</td>\n",
       "      <td>7</td>\n",
       "    </tr>\n",
       "    <tr>\n",
       "      <th>11286</th>\n",
       "      <td>180</td>\n",
       "      <td>3040000</td>\n",
       "      <td>3</td>\n",
       "      <td>1</td>\n",
       "      <td>0</td>\n",
       "      <td>48000</td>\n",
       "      <td>2014</td>\n",
       "      <td>13</td>\n",
       "    </tr>\n",
       "  </tbody>\n",
       "</table>\n",
       "<p>10700 rows × 8 columns</p>\n",
       "</div>"
      ],
      "text/plain": [
       "       Name    Price  Location  Fuel Type  Transmission  Kms Driven  Year  \\\n",
       "0        28   532000         4          4             1       18538  2018   \n",
       "1       237   778000         4          4             1       34427  2016   \n",
       "2       158   688000         4          4             1       56591  2017   \n",
       "3       240   582000         4          0             1       23261  2020   \n",
       "4        60   495000         4          4             0       12665  2018   \n",
       "...     ...      ...       ...        ...           ...         ...   ...   \n",
       "11282   193   355000         3          0             1       74000  2013   \n",
       "11283    78   400000         3          1             1       80000  2011   \n",
       "11284    64   375000         3          4             1       66294  2013   \n",
       "11285   132   650000         3          4             1       50092  2017   \n",
       "11286   180  3040000         3          1             0       48000  2014   \n",
       "\n",
       "       Company Name  \n",
       "0                 7  \n",
       "1                 8  \n",
       "2                24  \n",
       "3                16  \n",
       "4                16  \n",
       "...             ...  \n",
       "11282            16  \n",
       "11283             3  \n",
       "11284             7  \n",
       "11285             7  \n",
       "11286            13  \n",
       "\n",
       "[10700 rows x 8 columns]"
      ]
     },
     "execution_count": 32,
     "metadata": {},
     "output_type": "execute_result"
    }
   ],
   "source": [
    "leName=LabelEncoder()\n",
    "leLocation=LabelEncoder()\n",
    "leFuel=LabelEncoder()\n",
    "leTransmission=LabelEncoder()\n",
    "leCompany=LabelEncoder()\n",
    "\n",
    "\n",
    "df_new['Name'] = leName.fit_transform(df_new['Name'])   \n",
    "df_new['Location'] = leLocation.fit_transform(df_new['Location'])   \n",
    "df_new['Fuel Type'] = leFuel.fit_transform(df_new['Fuel Type'])   \n",
    "df_new['Transmission'] = leTransmission.fit_transform(df_new['Transmission'])   \n",
    "df_new['Company Name'] = leCompany.fit_transform(df_new['Company Name'])\n",
    "df_new\n",
    "\n"
   ]
  },
  {
   "cell_type": "markdown",
   "metadata": {},
   "source": [
    "## Splitting Dataset"
   ]
  },
  {
   "cell_type": "code",
   "execution_count": 33,
   "metadata": {},
   "outputs": [],
   "source": [
    "x=df_new.drop(\"Price\",axis=1)\n",
    "y=df_new[\"Price\"]"
   ]
  },
  {
   "cell_type": "code",
   "execution_count": 34,
   "metadata": {},
   "outputs": [
    {
     "name": "stdout",
     "output_type": "stream",
     "text": [
      "       Name  Location  Fuel Type  Transmission  Kms Driven  Year  Company Name\n",
      "0        28         4          4             1       18538  2018             7\n",
      "1       237         4          4             1       34427  2016             8\n",
      "2       158         4          4             1       56591  2017            24\n",
      "3       240         4          0             1       23261  2020            16\n",
      "4        60         4          4             0       12665  2018            16\n",
      "...     ...       ...        ...           ...         ...   ...           ...\n",
      "11282   193         3          0             1       74000  2013            16\n",
      "11283    78         3          1             1       80000  2011             3\n",
      "11284    64         3          4             1       66294  2013             7\n",
      "11285   132         3          4             1       50092  2017             7\n",
      "11286   180         3          1             0       48000  2014            13\n",
      "\n",
      "[10700 rows x 7 columns]\n",
      "[[-1.38695945  0.76700965  0.84007327 ... -1.10267844  0.69386308\n",
      "  -0.93408192]\n",
      " [ 1.15199465  0.76700965  0.84007327 ... -0.60269321  0.07007422\n",
      "  -0.79066775]\n",
      " [ 0.1922943   0.76700965  0.84007327 ...  0.09474985  0.38196865\n",
      "   1.50395887]\n",
      " ...\n",
      " [-0.94962765  0.12618797  0.84007327 ...  0.40007785 -0.86560906\n",
      "  -0.93408192]\n",
      " [-0.12355645  0.12618797  0.84007327 ... -0.10975667  0.38196865\n",
      "  -0.93408192]\n",
      " [ 0.45955262  0.12618797 -1.13273762 ... -0.17558643 -0.55371463\n",
      "  -0.07359693]]\n"
     ]
    }
   ],
   "source": [
    "sc=StandardScaler()\n",
    "sc.fit(x)\n",
    "xs = sc.transform(x)\n",
    "print(x)\n",
    "print(xs)"
   ]
  },
  {
   "cell_type": "code",
   "execution_count": 35,
   "metadata": {},
   "outputs": [
    {
     "data": {
      "text/plain": [
       "<AxesSubplot:>"
      ]
     },
     "execution_count": 35,
     "metadata": {},
     "output_type": "execute_result"
    },
    {
     "data": {
      "image/png": "[encoded data removed]",
      "text/plain": [
       "<Figure size 1080x720 with 2 Axes>"
      ]
     },
     "metadata": {
      "needs_background": "light"
     },
     "output_type": "display_data"
    }
   ],
   "source": [
    "plt.figure(figsize=(15,10))\n",
    "sns.heatmap(df_new.corr(),annot=True,cmap=\"Spectral\")"
   ]
  },
  {
   "cell_type": "markdown",
   "metadata": {},
   "source": [
    "No multicollinearity found"
   ]
  },
  {
   "cell_type": "markdown",
   "metadata": {},
   "source": [
    "## Models"
   ]
  },
  {
   "cell_type": "code",
   "execution_count": 36,
   "metadata": {},
   "outputs": [
    {
     "name": "stdout",
     "output_type": "stream",
     "text": [
      "0.45517545648342805\n",
      "Cross Val score :  45.81032843193405\n",
      "MAE: 437124.5473372726\n",
      "MSE: 418880411374.96716\n",
      "RMSE: 647209.7120524129\n"
     ]
    }
   ],
   "source": [
    "\n",
    "X_train, X_test, y_train, y_test = train_test_split(\n",
    "    xs, y, test_size=0.2, random_state=2, shuffle=True)\n",
    "lr = LinearRegression()\n",
    "lr.fit(X_train, y_train)\n",
    "\n",
    "y_pred = lr.predict(X_test)\n",
    "\n",
    "rscore = r2_score(y_test, y_pred)\n",
    "print(rscore)\n",
    "cvscore=cross_val_score(lr,xs,y,cv=5)\n",
    "print(\"Cross Val score : \",cvscore.mean()*100)\n",
    "\n",
    "print('MAE:', metrics.mean_absolute_error(y_test, y_pred))\n",
    "print('MSE:', metrics.mean_squared_error(y_test, y_pred))\n",
    "print('RMSE:', np.sqrt(metrics.mean_squared_error(y_test, y_pred)))"
   ]
  },
  {
   "cell_type": "code",
   "execution_count": 37,
   "metadata": {},
   "outputs": [
    {
     "name": "stdout",
     "output_type": "stream",
     "text": [
      "-0.1120118434817372\n",
      "Cross Val score :  -12.409273323803287\n",
      "MAE: 534441.0744392527\n",
      "MSE: 854954102186.6564\n",
      "RMSE: 924637.2814172357\n"
     ]
    }
   ],
   "source": [
    "from sklearn.svm import SVR\n",
    "\n",
    "svr = SVR()\n",
    "svr.fit(X_train, y_train)\n",
    "\n",
    "y_pred = svr.predict(X_test)\n",
    "rscore = r2_score(y_test, y_pred)\n",
    "print(rscore)\n",
    "cvscore=cross_val_score(svr,xs,y,cv=5)\n",
    "print(\"Cross Val score : \",cvscore.mean()*100)\n",
    "\n",
    "print('MAE:', metrics.mean_absolute_error(y_test, y_pred))\n",
    "print('MSE:', metrics.mean_squared_error(y_test, y_pred))\n",
    "print('RMSE:', np.sqrt(metrics.mean_squared_error(y_test, y_pred)))"
   ]
  },
  {
   "cell_type": "code",
   "execution_count": 38,
   "metadata": {},
   "outputs": [
    {
     "name": "stdout",
     "output_type": "stream",
     "text": [
      "0.45517554016711614\n",
      "Cross Val score :  45.81036944898248\n",
      "MAE: 437124.0463474348\n",
      "MSE: 418880347035.983\n",
      "RMSE: 647209.662347514\n"
     ]
    }
   ],
   "source": [
    "from sklearn.linear_model import Lasso\n",
    "\n",
    "ls = Lasso()\n",
    "ls.fit(X_train, y_train)\n",
    "y_pred = ls.predict(X_test)\n",
    "\n",
    "rscore = r2_score(y_test, y_pred)\n",
    "print(rscore)\n",
    "cvscore=cross_val_score(ls,xs,y,cv=5)\n",
    "print(\"Cross Val score : \",cvscore.mean()*100)\n",
    "\n",
    "print('MAE:', metrics.mean_absolute_error(y_test, y_pred))\n",
    "print('MSE:', metrics.mean_squared_error(y_test, y_pred))\n",
    "print('RMSE:', np.sqrt(metrics.mean_squared_error(y_test, y_pred)))\n"
   ]
  },
  {
   "cell_type": "code",
   "execution_count": 39,
   "metadata": {},
   "outputs": [
    {
     "name": "stdout",
     "output_type": "stream",
     "text": [
      "0.8633141438877979\n",
      "Cross Val score :  83.7413885706348\n",
      "MAE: 147226.3164330218\n",
      "MSE: 105088928754.68864\n",
      "RMSE: 324174.22592594963\n"
     ]
    }
   ],
   "source": [
    "dtr = DecisionTreeRegressor()\n",
    "dtr.fit(X_train, y_train)\n",
    "y_pred = dtr.predict(X_test)\n",
    "\n",
    "rscore = r2_score(y_test, y_pred)\n",
    "print(rscore)\n",
    "cvscore=cross_val_score(dtr,xs,y,cv=5)\n",
    "print(\"Cross Val score : \",cvscore.mean()*100)\n",
    "\n",
    "print('MAE:', metrics.mean_absolute_error(y_test, y_pred))\n",
    "print('MSE:', metrics.mean_squared_error(y_test, y_pred))\n",
    "print('RMSE:', np.sqrt(metrics.mean_squared_error(y_test, y_pred)))"
   ]
  },
  {
   "cell_type": "code",
   "execution_count": 40,
   "metadata": {},
   "outputs": [
    {
     "name": "stdout",
     "output_type": "stream",
     "text": [
      "0.9063103623830456\n",
      "Cross Val score :  90.22928683696311\n",
      "MAE: 131321.24945421115\n",
      "MSE: 72031912683.77164\n",
      "RMSE: 268387.61648737005\n"
     ]
    }
   ],
   "source": [
    "rfr = RandomForestRegressor()\n",
    "rfr.fit(X_train, y_train)\n",
    "y_pred = rfr.predict(X_test)\n",
    "\n",
    "rscore = r2_score(y_test, y_pred)\n",
    "print(rscore)\n",
    "cvscore=cross_val_score(rfr,xs,y,cv=5)\n",
    "print(\"Cross Val score : \",cvscore.mean()*100)\n",
    "\n",
    "print('MAE:', metrics.mean_absolute_error(y_test, y_pred))\n",
    "print('MSE:', metrics.mean_squared_error(y_test, y_pred))\n",
    "print('RMSE:', np.sqrt(metrics.mean_squared_error(y_test, y_pred)))"
   ]
  },
  {
   "cell_type": "code",
   "execution_count": 41,
   "metadata": {},
   "outputs": [
    {
     "name": "stdout",
     "output_type": "stream",
     "text": [
      "0.9427671584810944\n",
      "Cross Val score :  92.70704772687732\n",
      "MAE: 116069.34626898365\n",
      "MSE: 44002636233.78462\n",
      "RMSE: 209768.05341563481\n"
     ]
    }
   ],
   "source": [
    "from xgboost import XGBRegressor\n",
    "\n",
    "xbr = XGBRegressor()\n",
    "xbr.fit(X_train, y_train)\n",
    "y_pred = xbr.predict(X_test)\n",
    "\n",
    "rscore = r2_score(y_test, y_pred)\n",
    "print(rscore)\n",
    "cvscore=cross_val_score(xbr,xs,y,cv=5)\n",
    "print(\"Cross Val score : \",cvscore.mean()*100)\n",
    "\n",
    "print('MAE:', metrics.mean_absolute_error(y_test, y_pred))\n",
    "print('MSE:', metrics.mean_squared_error(y_test, y_pred))\n",
    "print('RMSE:', np.sqrt(metrics.mean_squared_error(y_test, y_pred)))\n"
   ]
  },
  {
   "cell_type": "code",
   "execution_count": 42,
   "metadata": {},
   "outputs": [
    {
     "name": "stdout",
     "output_type": "stream",
     "text": [
      "Connecting to wss://anvil.works/uplink\n",
      "Anvil websocket open\n",
      "Connected to \"Default environment\" as SERVER\n"
     ]
    }
   ],
   "source": [
    "import anvil.server\n",
    "\n",
    "anvil.server.connect(\"OMES34BDHMUEJ7G574WFFWD7-BSTLJVATVBWKAFJB\")"
   ]
  },
  {
   "cell_type": "code",
   "execution_count": 43,
   "metadata": {},
   "outputs": [],
   "source": [
    "@anvil.server.callable\n",
    "def predict(name,location,fuel,transmission,kms,year,company):\n",
    "    name = name + \" \"\n",
    "    kms = int(kms)\n",
    "    year = int(year)\n",
    "    predict_df = pd.DataFrame({'Name':name,'Location':location,'Fuel Type':fuel,'Transmission':transmission,'Kms Driven':kms,'Year':year,'Company Name':company}, index=[0])\n",
    "    predict_df['Name'] = leName.transform(predict_df['Name'])   \n",
    "    predict_df['Location'] = leLocation.transform(predict_df['Location'])   \n",
    "    predict_df['Fuel Type'] = leFuel.transform(predict_df['Fuel Type'])   \n",
    "    predict_df['Transmission'] = leTransmission.transform(predict_df['Transmission'])   \n",
    "    predict_df['Company Name'] = leCompany.transform(predict_df['Company Name']) \n",
    "    trans_record = sc.transform(predict_df)\n",
    "    predicted_price = xbr.predict(trans_record)\n",
    "    return predicted_price\n",
    "\n",
    "anvil.server.wait_forever()"
   ]
  }
 ],
 "metadata": {
  "kernelspec": {
   "display_name": "Python 3.9.7 ('base')",
   "language": "python",
   "name": "python3"
  },
  "language_info": {
   "codemirror_mode": {
    "name": "ipython",
    "version": 3
   },
   "file_extension": ".py",
   "mimetype": "text/x-python",
   "name": "python",
   "nbconvert_exporter": "python",
   "pygments_lexer": "ipython3",
   "version": "3.9.7"
  },
  "orig_nbformat": 4,
  "vscode": {
   "interpreter": {
    "hash": "b302cdd1e032ee910f5c889c3360c28564c92ad4f326fc3102e39fbe47faee66"
   }
  }
 },
 "nbformat": 4,
 "nbformat_minor": 2
}
